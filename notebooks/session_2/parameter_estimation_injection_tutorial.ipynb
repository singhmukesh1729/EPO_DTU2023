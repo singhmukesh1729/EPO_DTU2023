{
 "cells": [
  {
   "cell_type": "markdown",
   "metadata": {
    "Collapsed": "false",
    "colab_type": "text",
    "id": "OjUNeFsxyguu"
   },
   "source": [
    "# Gravitational Wave Parameter-Estimation Workshop\n",
    "\n",
    "## Tutorial: Parameter estimation for a GW150914-like injection in simulated data\n",
    "\n",
    "(Note, this tutorial and the open-data tutorial (tutorial A) are based on the [GWOSC ODW #3 tutorial 2.4](https://github.com/gw-odw/odw-2020). You may wish to browse that repository for similar notebooks covering a range of gravitational-wave data analysis subjects). \n",
    "\n",
    "This example estimates the non-spinning parameters of an injected binary black hole system using\n",
    "commonly used prior distributions. This will take about 40 minutes to run.\n",
    "   \n",
    "More examples at https://lscsoft.docs.ligo.org/bilby/examples.html"
   ]
  },
  {
   "cell_type": "markdown",
   "metadata": {
    "Collapsed": "false",
    "colab_type": "text",
    "id": "VwsIdKJ3yguv"
   },
   "source": [
    "##  Installation  (execute only if running on a cloud platform!)"
   ]
  },
  {
   "cell_type": "code",
   "execution_count": null,
   "metadata": {
    "Collapsed": "false",
    "colab": {
     "base_uri": "https://localhost:8080/",
     "height": 1000
    },
    "colab_type": "code",
    "id": "eJeo4XrHyguw",
    "outputId": "fc1a59d8-8ad9-494f-e7a1-9ac9b0775a9f"
   },
   "outputs": [],
   "source": [
    "# -- Use the following line in Google Colab\n",
    "#! pip install -q 'lalsuite' 'bilby' 'gwpy' 'nestle'"
   ]
  },
  {
   "cell_type": "markdown",
   "metadata": {
    "Collapsed": "false",
    "colab_type": "text",
    "id": "f0q3Y_9gygu0"
   },
   "source": [
    "**Important:** With Google Colab, you may need to restart the runtime after running the cell above."
   ]
  },
  {
   "cell_type": "markdown",
   "metadata": {
    "Collapsed": "false",
    "colab_type": "text",
    "id": "XK8fHu13ygu1"
   },
   "source": [
    "## Initialization\n",
    "\n",
    "We begin by importing some commonly used functions"
   ]
  },
  {
   "cell_type": "code",
   "execution_count": 1,
   "metadata": {
    "Collapsed": "false",
    "colab": {},
    "colab_type": "code",
    "id": "HyRSGt6cygu2"
   },
   "outputs": [],
   "source": [
    "from __future__ import division, print_function\n",
    "import numpy as np\n",
    "import matplotlib.pyplot as plt\n",
    "\n",
    "import bilby\n",
    "from bilby.core.prior import Uniform\n",
    "from bilby.gw.conversion import convert_to_lal_binary_black_hole_parameters, generate_all_bbh_parameters\n",
    "%matplotlib inline"
   ]
  },
  {
   "cell_type": "markdown",
   "metadata": {},
   "source": [
    "## Bilby version"
   ]
  },
  {
   "cell_type": "code",
   "execution_count": 2,
   "metadata": {},
   "outputs": [
    {
     "name": "stdout",
     "output_type": "stream",
     "text": [
      "1.1.5: (CLEAN) 88cf7e2 2022-01-24 22:26:41 +0000\n"
     ]
    }
   ],
   "source": [
    "print(bilby.__version__)"
   ]
  },
  {
   "cell_type": "markdown",
   "metadata": {
    "Collapsed": "false",
    "colab_type": "text",
    "id": "_Hd4d4KVygu6"
   },
   "source": [
    "## Creating fake data\n",
    "In this notebook, we'll analyse GW150914-like injection. Our first task is to create some data!"
   ]
  },
  {
   "cell_type": "markdown",
   "metadata": {},
   "source": [
    "Set up a random seed for result reproducibility.  This is optional!"
   ]
  },
  {
   "cell_type": "code",
   "execution_count": 3,
   "metadata": {
    "Collapsed": "false",
    "colab": {},
    "colab_type": "code",
    "id": "1cUhLaFIygu6"
   },
   "outputs": [],
   "source": [
    "np.random.seed(1234)"
   ]
  },
  {
   "cell_type": "markdown",
   "metadata": {},
   "source": [
    "We now need to specify the parameters of our injection. You can set this up as a python dictionary"
   ]
  },
  {
   "cell_type": "code",
   "execution_count": 4,
   "metadata": {},
   "outputs": [],
   "source": [
    "injection_parameters = dict(\n",
    "    mass_1=36., mass_2=29., a_1=0.4, a_2=0.3, tilt_1=0.5, tilt_2=1.0,\n",
    "    phi_12=1.7, phi_jl=0.3, luminosity_distance=4000., theta_jn=0.4, psi=2.659,\n",
    "    phase=1.3, geocent_time=1126259642.413, ra=1.375, dec=-1.2108)"
   ]
  },
  {
   "cell_type": "markdown",
   "metadata": {},
   "source": [
    "We also need to set up some additional arguments such as what waveform approximant to use and what the minimum frequencies for analysis are. This can again be set up as a python dictionary. While the duration and sampling frequenciy can be set up as variables."
   ]
  },
  {
   "cell_type": "code",
   "execution_count": 5,
   "metadata": {},
   "outputs": [],
   "source": [
    "waveform_arguments = dict(waveform_approximant='IMRPhenomPv2',\n",
    "                          reference_frequency=50., minimum_frequency=20., catch_waveform_errors=True)\n",
    "duration = 4.\n",
    "sampling_frequency = 2048."
   ]
  },
  {
   "cell_type": "markdown",
   "metadata": {},
   "source": [
    "We will now set up a bilby waveform generator. This wraps up some of the jobs of converting between parameters etc"
   ]
  },
  {
   "cell_type": "code",
   "execution_count": 6,
   "metadata": {},
   "outputs": [
    {
     "name": "stderr",
     "output_type": "stream",
     "text": [
      "21:42 bilby INFO    : Waveform generator initiated with\n",
      "  frequency_domain_source_model: bilby.gw.source.lal_binary_black_hole\n",
      "  time_domain_source_model: None\n",
      "  parameter_conversion: bilby.gw.conversion.convert_to_lal_binary_black_hole_parameters\n"
     ]
    }
   ],
   "source": [
    "waveform_generator = bilby.gw.WaveformGenerator(\n",
    "    duration=duration, sampling_frequency=sampling_frequency,\n",
    "    frequency_domain_source_model=bilby.gw.source.lal_binary_black_hole,\n",
    "    parameter_conversion=bilby.gw.conversion.convert_to_lal_binary_black_hole_parameters,\n",
    "    waveform_arguments=waveform_arguments)"
   ]
  },
  {
   "cell_type": "markdown",
   "metadata": {},
   "source": [
    "We now set up the bilby interferometers and inject data"
   ]
  },
  {
   "cell_type": "code",
   "execution_count": 7,
   "metadata": {},
   "outputs": [
    {
     "name": "stderr",
     "output_type": "stream",
     "text": [
      "21:43 bilby INFO    : Injected signal in H1:\n",
      "21:43 bilby INFO    :   optimal SNR = 5.89\n",
      "21:43 bilby INFO    :   matched filter SNR = 6.42-0.21j\n",
      "21:43 bilby INFO    :   mass_1 = 36.0\n",
      "21:43 bilby INFO    :   mass_2 = 29.0\n",
      "21:43 bilby INFO    :   a_1 = 0.4\n",
      "21:43 bilby INFO    :   a_2 = 0.3\n",
      "21:43 bilby INFO    :   tilt_1 = 0.5\n",
      "21:43 bilby INFO    :   tilt_2 = 1.0\n",
      "21:43 bilby INFO    :   phi_12 = 1.7\n",
      "21:43 bilby INFO    :   phi_jl = 0.3\n",
      "21:43 bilby INFO    :   luminosity_distance = 4000.0\n",
      "21:43 bilby INFO    :   theta_jn = 0.4\n",
      "21:43 bilby INFO    :   psi = 2.659\n",
      "21:43 bilby INFO    :   phase = 1.3\n",
      "21:43 bilby INFO    :   geocent_time = 1126259642.413\n",
      "21:43 bilby INFO    :   ra = 1.375\n",
      "21:43 bilby INFO    :   dec = -1.2108\n",
      "21:43 bilby INFO    : Injected signal in L1:\n",
      "21:43 bilby INFO    :   optimal SNR = 4.76\n",
      "21:43 bilby INFO    :   matched filter SNR = 5.20+0.72j\n",
      "21:43 bilby INFO    :   mass_1 = 36.0\n",
      "21:43 bilby INFO    :   mass_2 = 29.0\n",
      "21:43 bilby INFO    :   a_1 = 0.4\n",
      "21:43 bilby INFO    :   a_2 = 0.3\n",
      "21:43 bilby INFO    :   tilt_1 = 0.5\n",
      "21:43 bilby INFO    :   tilt_2 = 1.0\n",
      "21:43 bilby INFO    :   phi_12 = 1.7\n",
      "21:43 bilby INFO    :   phi_jl = 0.3\n",
      "21:43 bilby INFO    :   luminosity_distance = 4000.0\n",
      "21:43 bilby INFO    :   theta_jn = 0.4\n",
      "21:43 bilby INFO    :   psi = 2.659\n",
      "21:43 bilby INFO    :   phase = 1.3\n",
      "21:43 bilby INFO    :   geocent_time = 1126259642.413\n",
      "21:43 bilby INFO    :   ra = 1.375\n",
      "21:43 bilby INFO    :   dec = -1.2108\n"
     ]
    }
   ],
   "source": [
    "ifos = bilby.gw.detector.InterferometerList(['H1', 'L1'])\n",
    "ifos.set_strain_data_from_power_spectral_densities(\n",
    "    sampling_frequency=sampling_frequency, duration=duration,\n",
    "    start_time=injection_parameters['geocent_time'] - 3)\n",
    "injection = ifos.inject_signal(\n",
    "    waveform_generator=waveform_generator,\n",
    "    parameters=injection_parameters)"
   ]
  },
  {
   "cell_type": "markdown",
   "metadata": {},
   "source": [
    "### Looking at the data\n",
    "Okay, we have spent a bit of time now initializing things. Let's check that everything makes sense. To do this, we'll plot our analysis data alongwise the amplitude spectral density (ASD); this is just the square root of the PSD and has the right units to be comparable to the frequency-domain strain data. We also add the \"injection\", here we plot the absolute value of the (complex) plus polarization."
   ]
  },
  {
   "cell_type": "code",
   "execution_count": 8,
   "metadata": {},
   "outputs": [
    {
     "data": {
      "image/png": "[encoded data removed]",
      "text/plain": [
       "<Figure size 432x288 with 1 Axes>"
      ]
     },
     "metadata": {
      "needs_background": "light"
     },
     "output_type": "display_data"
    }
   ],
   "source": [
    "H1 = ifos[0]\n",
    "H1_injection = injection[0]\n",
    "\n",
    "fig, ax = plt.subplots()\n",
    "idxs = H1.strain_data.frequency_mask  # This is a boolean mask of the frequencies which we'll use in the analysis\n",
    "ax.loglog(H1.strain_data.frequency_array[idxs],\n",
    "          np.abs(H1.strain_data.frequency_domain_strain[idxs]),\n",
    "          label=\"data\")\n",
    "ax.loglog(H1.frequency_array[idxs],\n",
    "          H1.amplitude_spectral_density_array[idxs],\n",
    "          label=\"ASD\")\n",
    "ax.loglog(H1.frequency_array[idxs],\n",
    "          np.abs(H1_injection[\"plus\"][idxs]),\n",
    "          label=\"Abs. val. of plus polarization\")\n",
    "ax.set_xlabel(\"Frequency [Hz]\")\n",
    "ax.set_ylabel(\"Strain [strain/$\\sqrt{Hz}$]\")\n",
    "ax.legend()\n",
    "plt.show()"
   ]
  },
  {
   "cell_type": "markdown",
   "metadata": {},
   "source": [
    "## Low dimensional analysis\n",
    "\n",
    "As in the open-data tutorial, we'll do a low-dimensional analysis."
   ]
  },
  {
   "cell_type": "markdown",
   "metadata": {},
   "source": [
    "### Create a prior\n",
    "\n",
    "Here, we create a prior fixing everything except the chirp mass, mass ratio and geocent_time parameters to fixed values. The first two we described above. The geocent_time is the time at which it merges."
   ]
  },
  {
   "cell_type": "code",
   "execution_count": 9,
   "metadata": {},
   "outputs": [],
   "source": [
    "prior = bilby.core.prior.PriorDict()\n",
    "prior['chirp_mass'] = Uniform(name='chirp_mass', minimum=27.0,maximum=32.5)\n",
    "prior['mass_ratio'] = Uniform(name='mass_ratio', minimum=0.5, maximum=1)\n",
    "# We fix the rest of the parameters to their injected values\n",
    "for key in ['a_1', 'a_2', 'tilt_1', 'tilt_2', 'phi_12', 'phi_jl', 'psi', 'ra',\n",
    "            'dec','luminosity_distance', 'theta_jn', 'phase', 'geocent_time']:\n",
    "    prior[key] = injection_parameters[key]"
   ]
  },
  {
   "cell_type": "code",
   "execution_count": 10,
   "metadata": {},
   "outputs": [
    {
     "data": {
      "text/plain": [
       "{'chirp_mass': Uniform(minimum=27.0, maximum=32.5, name='chirp_mass', latex_label='$\\\\mathcal{M}$', unit=None, boundary=None),\n",
       " 'mass_ratio': Uniform(minimum=0.5, maximum=1, name='mass_ratio', latex_label='$q$', unit=None, boundary=None),\n",
       " 'a_1': 0.4,\n",
       " 'a_2': 0.3,\n",
       " 'tilt_1': 0.5,\n",
       " 'tilt_2': 1.0,\n",
       " 'phi_12': 1.7,\n",
       " 'phi_jl': 0.3,\n",
       " 'psi': 2.659,\n",
       " 'ra': 1.375,\n",
       " 'dec': -1.2108,\n",
       " 'luminosity_distance': 4000.0,\n",
       " 'theta_jn': 0.4,\n",
       " 'phase': 1.3,\n",
       " 'geocent_time': 1126259642.413}"
      ]
     },
     "execution_count": 10,
     "metadata": {},
     "output_type": "execute_result"
    }
   ],
   "source": [
    "prior"
   ]
  },
  {
   "cell_type": "markdown",
   "metadata": {},
   "source": [
    "## Create a likelihood\n",
    "\n",
    "For Bayesian inference, we need to evaluate the likelihood. In Bilby, we create a likelihood object. This is the communication interface between the sampling part of Bilby and the data. Explicitly, when Bilby is sampling it only uses the `parameters` and `log_likelihood()` of the likelihood object. This means the likelihood can be arbitrarily complicated and the sampling part of Bilby won't mind a bit!\n",
    "\n",
    "Let's create a `GravitationalWaveTransient`, a special inbuilt method carefully designed to wrap up evaluating the likelihood of a waveform model in some data."
   ]
  },
  {
   "cell_type": "code",
   "execution_count": 11,
   "metadata": {},
   "outputs": [],
   "source": [
    "likelihood = bilby.gw.likelihood.GravitationalWaveTransient(\n",
    "    interferometers=ifos, waveform_generator=waveform_generator, priors=prior,\n",
    "    time_marginalization=False, phase_marginalization=False, distance_marginalization=False)\n"
   ]
  },
  {
   "cell_type": "markdown",
   "metadata": {},
   "source": [
    "This will print a warning about the `start_time`, it is safe to ignore this.\n",
    "\n",
    "Here, we do not use any marginalization (we fixed these parameters to the injection values in the prior)"
   ]
  },
  {
   "cell_type": "markdown",
   "metadata": {},
   "source": [
    "### Run the analysis"
   ]
  },
  {
   "cell_type": "markdown",
   "metadata": {
    "Collapsed": "false",
    "colab_type": "text",
    "id": "LCfygeVyygvM"
   },
   "source": [
    "Now that the prior is set-up and the likelihood is set-up (with the data and the signal mode), we can run the sampler to get the posterior result. This function takes the likelihood and prior along with some options for how to do the sampling and how to save the data."
   ]
  },
  {
   "cell_type": "code",
   "execution_count": 12,
   "metadata": {
    "Collapsed": "false",
    "colab": {
     "base_uri": "https://localhost:8080/",
     "height": 627
    },
    "colab_type": "code",
    "id": "HHS9JSX3ygvN",
    "outputId": "69e07ce1-f118-4378-c750-5ec65d43e0db"
   },
   "outputs": [
    {
     "name": "stderr",
     "output_type": "stream",
     "text": [
      "21:45 bilby INFO    : Running for label 'GW150914', output will be saved to 'short'\n",
      "21:45 bilby INFO    : Using lal version 7.1.7\n",
      "21:45 bilby INFO    : Using lal git version Branch: None;Tag: lal-v7.1.7;Id: c0930b69d9f2ad7151d1cadea5df72633ec47e67;;Builder: Adam Mercer <adam.mercer@ligo.org>;Repository status: CLEAN: All modifications committed\n",
      "21:45 bilby INFO    : Using lalsimulation version 3.1.2\n",
      "21:45 bilby INFO    : Using lalsimulation git version Branch: None;Tag: lalsimulation-v3.1.2;Id: 8c3a6977aa553c9a2019ec287a61dc5ee92087b4;;Builder: Adam Mercer <adam.mercer@ligo.org>;Repository status: CLEAN: All modifications committed\n",
      "21:45 bilby INFO    : Search parameters:\n",
      "21:45 bilby INFO    :   chirp_mass = Uniform(minimum=27.0, maximum=32.5, name='chirp_mass', latex_label='$\\\\mathcal{M}$', unit=None, boundary=None)\n",
      "21:45 bilby INFO    :   mass_ratio = Uniform(minimum=0.5, maximum=1, name='mass_ratio', latex_label='$q$', unit=None, boundary=None)\n",
      "21:45 bilby INFO    :   a_1 = 0.4\n",
      "21:45 bilby INFO    :   a_2 = 0.3\n",
      "21:45 bilby INFO    :   tilt_1 = 0.5\n",
      "21:45 bilby INFO    :   tilt_2 = 1.0\n",
      "21:45 bilby INFO    :   phi_12 = 1.7\n",
      "21:45 bilby INFO    :   phi_jl = 0.3\n",
      "21:45 bilby INFO    :   psi = 2.659\n",
      "21:45 bilby INFO    :   ra = 1.375\n",
      "21:45 bilby INFO    :   dec = -1.2108\n",
      "21:45 bilby INFO    :   luminosity_distance = 4000.0\n",
      "21:45 bilby INFO    :   theta_jn = 0.4\n",
      "21:45 bilby INFO    :   phase = 1.3\n",
      "21:45 bilby INFO    :   geocent_time = 1126259642.413\n",
      "21:45 bilby INFO    : Single likelihood evaluation took 3.371e-03 s\n"
     ]
    },
    {
     "data": {
      "application/vnd.jupyter.widget-view+json": {
       "model_id": "d7bd2541e20c4e8798fd6552206ff8c5",
       "version_major": 2,
       "version_minor": 0
      },
      "text/plain": [
       "0it [00:00, ?it/s]"
      ]
     },
     "metadata": {},
     "output_type": "display_data"
    },
    {
     "name": "stderr",
     "output_type": "stream",
     "text": [
      "21:45 bilby INFO    : Using sampler Dynesty with kwargs {'bound': 'multi', 'sample': 'rwalk', 'verbose': True, 'periodic': None, 'reflective': None, 'check_point_delta_t': 1800, 'nlive': 500, 'first_update': None, 'walks': 100, 'npdim': None, 'rstate': None, 'queue_size': 1, 'pool': None, 'use_pool': None, 'live_points': None, 'logl_args': None, 'logl_kwargs': None, 'ptform_args': None, 'ptform_kwargs': None, 'enlarge': 1.5, 'bootstrap': None, 'vol_dec': 0.5, 'vol_check': 8.0, 'facc': 0.2, 'slices': 5, 'update_interval': 300, 'print_func': <bound method Dynesty._print_func of <bilby.core.sampler.dynesty.Dynesty object at 0x7fed0fab48b0>>, 'dlogz': 3, 'maxiter': None, 'maxcall': None, 'logl_max': inf, 'add_live': True, 'print_progress': True, 'save_bounds': False, 'n_effective': None, 'maxmcmc': 5000, 'nact': 5, 'print_method': 'tqdm'}\n",
      "21:45 bilby INFO    : Checkpoint every check_point_delta_t = 600s\n",
      "21:45 bilby INFO    : Using dynesty version 1.0.1\n",
      "21:45 bilby INFO    : Using the bilby-implemented rwalk sample method with ACT estimated walks\n",
      "21:45 bilby INFO    : Generating initial points from the prior\n",
      "21:49 bilby INFO    : Written checkpoint file short/GW150914_resume.pickle\n",
      "21:49 bilby INFO    : Sampling time: 0:02:58.794667\n"
     ]
    },
    {
     "name": "stdout",
     "output_type": "stream",
     "text": [
      "\n"
     ]
    },
    {
     "name": "stderr",
     "output_type": "stream",
     "text": [
      "21:49 bilby INFO    : Generating sky frame parameters.\n"
     ]
    },
    {
     "data": {
      "application/vnd.jupyter.widget-view+json": {
       "model_id": "a1d47419b48f40df9fa8566d7297f711",
       "version_major": 2,
       "version_minor": 0
      },
      "text/plain": [
       "  0%|          | 0/2453 [00:00<?, ?it/s]"
      ]
     },
     "metadata": {},
     "output_type": "display_data"
    },
    {
     "name": "stderr",
     "output_type": "stream",
     "text": [
      "21:49 bilby INFO    : Computing SNRs for every sample.\n"
     ]
    },
    {
     "data": {
      "application/vnd.jupyter.widget-view+json": {
       "model_id": "fc2af8d573ef43ebab80ba4f5d83b01b",
       "version_major": 2,
       "version_minor": 0
      },
      "text/plain": [
       "  0%|          | 0/2453 [00:00<?, ?it/s]"
      ]
     },
     "metadata": {},
     "output_type": "display_data"
    },
    {
     "name": "stderr",
     "output_type": "stream",
     "text": [
      "21:49 bilby INFO    : Summary of results:\n",
      "nsamples: 2453\n",
      "ln_noise_evidence: -7999.989\n",
      "ln_evidence: -7970.681 +/-  0.118\n",
      "ln_bayes_factor: 29.308 +/-  0.118\n",
      "\n"
     ]
    }
   ],
   "source": [
    "result_short = bilby.run_sampler(\n",
    "    likelihood, prior, sampler='dynesty', outdir='short', label=\"GW150914\",\n",
    "    conversion_function=bilby.gw.conversion.generate_all_bbh_parameters,\n",
    "    nlive=500, dlogz=3,  # <- Arguments are used to make things fast - not recommended for general use\n",
    "    clean=True\n",
    ")"
   ]
  },
  {
   "cell_type": "markdown",
   "metadata": {},
   "source": [
    "### Looking at the outputs"
   ]
  },
  {
   "cell_type": "markdown",
   "metadata": {
    "Collapsed": "false",
    "colab_type": "text",
    "id": "wKR045TIygvT"
   },
   "source": [
    "The `run_sampler` returned `result_short` - this is a Bilby result object. The posterior samples are stored in a [pandas data frame](https://pandas.pydata.org/pandas-docs/stable/reference/api/pandas.DataFrame.html) (think of this like a spreadsheet), let's take a look at it"
   ]
  },
  {
   "cell_type": "code",
   "execution_count": 13,
   "metadata": {},
   "outputs": [
    {
     "data": {
      "text/html": [
       "<div>\n",
       "<style scoped>\n",
       "    .dataframe tbody tr th:only-of-type {\n",
       "        vertical-align: middle;\n",
       "    }\n",
       "\n",
       "    .dataframe tbody tr th {\n",
       "        vertical-align: top;\n",
       "    }\n",
       "\n",
       "    .dataframe thead th {\n",
       "        text-align: right;\n",
       "    }\n",
       "</style>\n",
       "<table border=\"1\" class=\"dataframe\">\n",
       "  <thead>\n",
       "    <tr style=\"text-align: right;\">\n",
       "      <th></th>\n",
       "      <th>chirp_mass</th>\n",
       "      <th>mass_ratio</th>\n",
       "      <th>a_1</th>\n",
       "      <th>a_2</th>\n",
       "      <th>tilt_1</th>\n",
       "      <th>tilt_2</th>\n",
       "      <th>phi_12</th>\n",
       "      <th>phi_jl</th>\n",
       "      <th>psi</th>\n",
       "      <th>ra</th>\n",
       "      <th>...</th>\n",
       "      <th>chi_2_in_plane</th>\n",
       "      <th>chi_p</th>\n",
       "      <th>cos_tilt_1</th>\n",
       "      <th>cos_tilt_2</th>\n",
       "      <th>redshift</th>\n",
       "      <th>comoving_distance</th>\n",
       "      <th>mass_1_source</th>\n",
       "      <th>mass_2_source</th>\n",
       "      <th>chirp_mass_source</th>\n",
       "      <th>total_mass_source</th>\n",
       "    </tr>\n",
       "  </thead>\n",
       "  <tbody>\n",
       "    <tr>\n",
       "      <th>0</th>\n",
       "      <td>27.794294</td>\n",
       "      <td>0.903369</td>\n",
       "      <td>0.4</td>\n",
       "      <td>0.3</td>\n",
       "      <td>0.5</td>\n",
       "      <td>1.0</td>\n",
       "      <td>1.7</td>\n",
       "      <td>0.3</td>\n",
       "      <td>2.659</td>\n",
       "      <td>1.375</td>\n",
       "      <td>...</td>\n",
       "      <td>0.252441</td>\n",
       "      <td>0.224764</td>\n",
       "      <td>0.877583</td>\n",
       "      <td>0.540302</td>\n",
       "      <td>0.649279</td>\n",
       "      <td>2425.302535</td>\n",
       "      <td>20.372628</td>\n",
       "      <td>18.404002</td>\n",
       "      <td>16.852393</td>\n",
       "      <td>38.776630</td>\n",
       "    </tr>\n",
       "    <tr>\n",
       "      <th>1</th>\n",
       "      <td>27.364025</td>\n",
       "      <td>0.916655</td>\n",
       "      <td>0.4</td>\n",
       "      <td>0.3</td>\n",
       "      <td>0.5</td>\n",
       "      <td>1.0</td>\n",
       "      <td>1.7</td>\n",
       "      <td>0.3</td>\n",
       "      <td>2.659</td>\n",
       "      <td>1.375</td>\n",
       "      <td>...</td>\n",
       "      <td>0.252441</td>\n",
       "      <td>0.228544</td>\n",
       "      <td>0.877583</td>\n",
       "      <td>0.540302</td>\n",
       "      <td>0.649279</td>\n",
       "      <td>2425.302535</td>\n",
       "      <td>19.909992</td>\n",
       "      <td>18.250599</td>\n",
       "      <td>16.591510</td>\n",
       "      <td>38.160591</td>\n",
       "    </tr>\n",
       "    <tr>\n",
       "      <th>2</th>\n",
       "      <td>27.666407</td>\n",
       "      <td>0.799814</td>\n",
       "      <td>0.4</td>\n",
       "      <td>0.3</td>\n",
       "      <td>0.5</td>\n",
       "      <td>1.0</td>\n",
       "      <td>1.7</td>\n",
       "      <td>0.3</td>\n",
       "      <td>2.659</td>\n",
       "      <td>1.375</td>\n",
       "      <td>...</td>\n",
       "      <td>0.252441</td>\n",
       "      <td>0.195590</td>\n",
       "      <td>0.877583</td>\n",
       "      <td>0.540302</td>\n",
       "      <td>0.649279</td>\n",
       "      <td>2425.302535</td>\n",
       "      <td>21.573019</td>\n",
       "      <td>17.254394</td>\n",
       "      <td>16.774852</td>\n",
       "      <td>38.827413</td>\n",
       "    </tr>\n",
       "    <tr>\n",
       "      <th>3</th>\n",
       "      <td>28.961522</td>\n",
       "      <td>0.743400</td>\n",
       "      <td>0.4</td>\n",
       "      <td>0.3</td>\n",
       "      <td>0.5</td>\n",
       "      <td>1.0</td>\n",
       "      <td>1.7</td>\n",
       "      <td>0.3</td>\n",
       "      <td>2.659</td>\n",
       "      <td>1.375</td>\n",
       "      <td>...</td>\n",
       "      <td>0.252441</td>\n",
       "      <td>0.191770</td>\n",
       "      <td>0.877583</td>\n",
       "      <td>0.540302</td>\n",
       "      <td>0.649279</td>\n",
       "      <td>2425.302535</td>\n",
       "      <td>23.446245</td>\n",
       "      <td>17.429929</td>\n",
       "      <td>17.560113</td>\n",
       "      <td>40.876174</td>\n",
       "    </tr>\n",
       "    <tr>\n",
       "      <th>4</th>\n",
       "      <td>28.226210</td>\n",
       "      <td>0.855623</td>\n",
       "      <td>0.4</td>\n",
       "      <td>0.3</td>\n",
       "      <td>0.5</td>\n",
       "      <td>1.0</td>\n",
       "      <td>1.7</td>\n",
       "      <td>0.3</td>\n",
       "      <td>2.659</td>\n",
       "      <td>1.375</td>\n",
       "      <td>...</td>\n",
       "      <td>0.252441</td>\n",
       "      <td>0.211246</td>\n",
       "      <td>0.877583</td>\n",
       "      <td>0.540302</td>\n",
       "      <td>0.649279</td>\n",
       "      <td>2425.302535</td>\n",
       "      <td>21.266055</td>\n",
       "      <td>18.195730</td>\n",
       "      <td>17.114275</td>\n",
       "      <td>39.461785</td>\n",
       "    </tr>\n",
       "    <tr>\n",
       "      <th>...</th>\n",
       "      <td>...</td>\n",
       "      <td>...</td>\n",
       "      <td>...</td>\n",
       "      <td>...</td>\n",
       "      <td>...</td>\n",
       "      <td>...</td>\n",
       "      <td>...</td>\n",
       "      <td>...</td>\n",
       "      <td>...</td>\n",
       "      <td>...</td>\n",
       "      <td>...</td>\n",
       "      <td>...</td>\n",
       "      <td>...</td>\n",
       "      <td>...</td>\n",
       "      <td>...</td>\n",
       "      <td>...</td>\n",
       "      <td>...</td>\n",
       "      <td>...</td>\n",
       "      <td>...</td>\n",
       "      <td>...</td>\n",
       "      <td>...</td>\n",
       "    </tr>\n",
       "    <tr>\n",
       "      <th>2448</th>\n",
       "      <td>28.145692</td>\n",
       "      <td>0.805075</td>\n",
       "      <td>0.4</td>\n",
       "      <td>0.3</td>\n",
       "      <td>0.5</td>\n",
       "      <td>1.0</td>\n",
       "      <td>1.7</td>\n",
       "      <td>0.3</td>\n",
       "      <td>2.659</td>\n",
       "      <td>1.375</td>\n",
       "      <td>...</td>\n",
       "      <td>0.252441</td>\n",
       "      <td>0.197059</td>\n",
       "      <td>0.877583</td>\n",
       "      <td>0.540302</td>\n",
       "      <td>0.649279</td>\n",
       "      <td>2425.302535</td>\n",
       "      <td>21.873343</td>\n",
       "      <td>17.609677</td>\n",
       "      <td>17.065455</td>\n",
       "      <td>39.483021</td>\n",
       "    </tr>\n",
       "    <tr>\n",
       "      <th>2449</th>\n",
       "      <td>28.145692</td>\n",
       "      <td>0.805075</td>\n",
       "      <td>0.4</td>\n",
       "      <td>0.3</td>\n",
       "      <td>0.5</td>\n",
       "      <td>1.0</td>\n",
       "      <td>1.7</td>\n",
       "      <td>0.3</td>\n",
       "      <td>2.659</td>\n",
       "      <td>1.375</td>\n",
       "      <td>...</td>\n",
       "      <td>0.252441</td>\n",
       "      <td>0.197059</td>\n",
       "      <td>0.877583</td>\n",
       "      <td>0.540302</td>\n",
       "      <td>0.649279</td>\n",
       "      <td>2425.302535</td>\n",
       "      <td>21.873343</td>\n",
       "      <td>17.609677</td>\n",
       "      <td>17.065455</td>\n",
       "      <td>39.483021</td>\n",
       "    </tr>\n",
       "    <tr>\n",
       "      <th>2450</th>\n",
       "      <td>28.145692</td>\n",
       "      <td>0.805075</td>\n",
       "      <td>0.4</td>\n",
       "      <td>0.3</td>\n",
       "      <td>0.5</td>\n",
       "      <td>1.0</td>\n",
       "      <td>1.7</td>\n",
       "      <td>0.3</td>\n",
       "      <td>2.659</td>\n",
       "      <td>1.375</td>\n",
       "      <td>...</td>\n",
       "      <td>0.252441</td>\n",
       "      <td>0.197059</td>\n",
       "      <td>0.877583</td>\n",
       "      <td>0.540302</td>\n",
       "      <td>0.649279</td>\n",
       "      <td>2425.302535</td>\n",
       "      <td>21.873343</td>\n",
       "      <td>17.609677</td>\n",
       "      <td>17.065455</td>\n",
       "      <td>39.483021</td>\n",
       "    </tr>\n",
       "    <tr>\n",
       "      <th>2451</th>\n",
       "      <td>28.145692</td>\n",
       "      <td>0.805075</td>\n",
       "      <td>0.4</td>\n",
       "      <td>0.3</td>\n",
       "      <td>0.5</td>\n",
       "      <td>1.0</td>\n",
       "      <td>1.7</td>\n",
       "      <td>0.3</td>\n",
       "      <td>2.659</td>\n",
       "      <td>1.375</td>\n",
       "      <td>...</td>\n",
       "      <td>0.252441</td>\n",
       "      <td>0.197059</td>\n",
       "      <td>0.877583</td>\n",
       "      <td>0.540302</td>\n",
       "      <td>0.649279</td>\n",
       "      <td>2425.302535</td>\n",
       "      <td>21.873343</td>\n",
       "      <td>17.609677</td>\n",
       "      <td>17.065455</td>\n",
       "      <td>39.483021</td>\n",
       "    </tr>\n",
       "    <tr>\n",
       "      <th>2452</th>\n",
       "      <td>28.145692</td>\n",
       "      <td>0.805075</td>\n",
       "      <td>0.4</td>\n",
       "      <td>0.3</td>\n",
       "      <td>0.5</td>\n",
       "      <td>1.0</td>\n",
       "      <td>1.7</td>\n",
       "      <td>0.3</td>\n",
       "      <td>2.659</td>\n",
       "      <td>1.375</td>\n",
       "      <td>...</td>\n",
       "      <td>0.252441</td>\n",
       "      <td>0.197059</td>\n",
       "      <td>0.877583</td>\n",
       "      <td>0.540302</td>\n",
       "      <td>0.649279</td>\n",
       "      <td>2425.302535</td>\n",
       "      <td>21.873343</td>\n",
       "      <td>17.609677</td>\n",
       "      <td>17.065455</td>\n",
       "      <td>39.483021</td>\n",
       "    </tr>\n",
       "  </tbody>\n",
       "</table>\n",
       "<p>2453 rows × 49 columns</p>\n",
       "</div>"
      ],
      "text/plain": [
       "      chirp_mass  mass_ratio  a_1  a_2  tilt_1  tilt_2  phi_12  phi_jl    psi  \\\n",
       "0      27.794294    0.903369  0.4  0.3     0.5     1.0     1.7     0.3  2.659   \n",
       "1      27.364025    0.916655  0.4  0.3     0.5     1.0     1.7     0.3  2.659   \n",
       "2      27.666407    0.799814  0.4  0.3     0.5     1.0     1.7     0.3  2.659   \n",
       "3      28.961522    0.743400  0.4  0.3     0.5     1.0     1.7     0.3  2.659   \n",
       "4      28.226210    0.855623  0.4  0.3     0.5     1.0     1.7     0.3  2.659   \n",
       "...          ...         ...  ...  ...     ...     ...     ...     ...    ...   \n",
       "2448   28.145692    0.805075  0.4  0.3     0.5     1.0     1.7     0.3  2.659   \n",
       "2449   28.145692    0.805075  0.4  0.3     0.5     1.0     1.7     0.3  2.659   \n",
       "2450   28.145692    0.805075  0.4  0.3     0.5     1.0     1.7     0.3  2.659   \n",
       "2451   28.145692    0.805075  0.4  0.3     0.5     1.0     1.7     0.3  2.659   \n",
       "2452   28.145692    0.805075  0.4  0.3     0.5     1.0     1.7     0.3  2.659   \n",
       "\n",
       "         ra  ...  chi_2_in_plane     chi_p  cos_tilt_1  cos_tilt_2  redshift  \\\n",
       "0     1.375  ...        0.252441  0.224764    0.877583    0.540302  0.649279   \n",
       "1     1.375  ...        0.252441  0.228544    0.877583    0.540302  0.649279   \n",
       "2     1.375  ...        0.252441  0.195590    0.877583    0.540302  0.649279   \n",
       "3     1.375  ...        0.252441  0.191770    0.877583    0.540302  0.649279   \n",
       "4     1.375  ...        0.252441  0.211246    0.877583    0.540302  0.649279   \n",
       "...     ...  ...             ...       ...         ...         ...       ...   \n",
       "2448  1.375  ...        0.252441  0.197059    0.877583    0.540302  0.649279   \n",
       "2449  1.375  ...        0.252441  0.197059    0.877583    0.540302  0.649279   \n",
       "2450  1.375  ...        0.252441  0.197059    0.877583    0.540302  0.649279   \n",
       "2451  1.375  ...        0.252441  0.197059    0.877583    0.540302  0.649279   \n",
       "2452  1.375  ...        0.252441  0.197059    0.877583    0.540302  0.649279   \n",
       "\n",
       "      comoving_distance  mass_1_source  mass_2_source chirp_mass_source  \\\n",
       "0           2425.302535      20.372628      18.404002         16.852393   \n",
       "1           2425.302535      19.909992      18.250599         16.591510   \n",
       "2           2425.302535      21.573019      17.254394         16.774852   \n",
       "3           2425.302535      23.446245      17.429929         17.560113   \n",
       "4           2425.302535      21.266055      18.195730         17.114275   \n",
       "...                 ...            ...            ...               ...   \n",
       "2448        2425.302535      21.873343      17.609677         17.065455   \n",
       "2449        2425.302535      21.873343      17.609677         17.065455   \n",
       "2450        2425.302535      21.873343      17.609677         17.065455   \n",
       "2451        2425.302535      21.873343      17.609677         17.065455   \n",
       "2452        2425.302535      21.873343      17.609677         17.065455   \n",
       "\n",
       "      total_mass_source  \n",
       "0             38.776630  \n",
       "1             38.160591  \n",
       "2             38.827413  \n",
       "3             40.876174  \n",
       "4             39.461785  \n",
       "...                 ...  \n",
       "2448          39.483021  \n",
       "2449          39.483021  \n",
       "2450          39.483021  \n",
       "2451          39.483021  \n",
       "2452          39.483021  \n",
       "\n",
       "[2453 rows x 49 columns]"
      ]
     },
     "execution_count": 13,
     "metadata": {},
     "output_type": "execute_result"
    }
   ],
   "source": [
    "result_short.posterior"
   ]
  },
  {
   "cell_type": "markdown",
   "metadata": {},
   "source": [
    "We can pull out specific parameters that we are interested in"
   ]
  },
  {
   "cell_type": "code",
   "execution_count": 14,
   "metadata": {},
   "outputs": [
    {
     "data": {
      "text/plain": [
       "0       27.794294\n",
       "1       27.364025\n",
       "2       27.666407\n",
       "3       28.961522\n",
       "4       28.226210\n",
       "          ...    \n",
       "2448    28.145692\n",
       "2449    28.145692\n",
       "2450    28.145692\n",
       "2451    28.145692\n",
       "2452    28.145692\n",
       "Name: chirp_mass, Length: 2453, dtype: float64"
      ]
     },
     "execution_count": 14,
     "metadata": {},
     "output_type": "execute_result"
    }
   ],
   "source": [
    "result_short.posterior[\"chirp_mass\"]"
   ]
  },
  {
   "cell_type": "markdown",
   "metadata": {},
   "source": [
    "This returned another `pandas` object. If you just want to get the numbers as a numpy array run"
   ]
  },
  {
   "cell_type": "code",
   "execution_count": 15,
   "metadata": {},
   "outputs": [],
   "source": [
    "Mc = result_short.posterior[\"chirp_mass\"].values"
   ]
  },
  {
   "cell_type": "markdown",
   "metadata": {},
   "source": [
    "We can then get some useful quantities such as the 90\\% credible interval"
   ]
  },
  {
   "cell_type": "code",
   "execution_count": 16,
   "metadata": {},
   "outputs": [
    {
     "name": "stdout",
     "output_type": "stream",
     "text": [
      "Mc = 28.148614512241277 with a 90% C.I = 27.760531557804406 -> 28.536531287165506\n"
     ]
    }
   ],
   "source": [
    "lower_bound = np.quantile(Mc, 0.05)\n",
    "upper_bound = np.quantile(Mc, 0.95)\n",
    "median = np.quantile(Mc, 0.5)\n",
    "print(\"Mc = {} with a 90% C.I = {} -> {}\".format(median, lower_bound, upper_bound))"
   ]
  },
  {
   "cell_type": "markdown",
   "metadata": {},
   "source": [
    "We can then plot the chirp mass in a histogram adding a region to indicate the 90\\% C.I."
   ]
  },
  {
   "cell_type": "code",
   "execution_count": 17,
   "metadata": {},
   "outputs": [
    {
     "data": {
      "image/png": "[encoded data removed]",
      "text/plain": [
       "<Figure size 432x288 with 1 Axes>"
      ]
     },
     "metadata": {
      "needs_background": "light"
     },
     "output_type": "display_data"
    }
   ],
   "source": [
    "fig, ax = plt.subplots()\n",
    "ax.hist(result_short.posterior[\"chirp_mass\"], bins=20)\n",
    "ax.axvspan(lower_bound, upper_bound, color='C1', alpha=0.4)\n",
    "ax.axvline(median, color='C1')\n",
    "ax.set_xlabel(\"chirp mass\")\n",
    "plt.show()"
   ]
  },
  {
   "cell_type": "markdown",
   "metadata": {},
   "source": [
    "The result object also has in-built methods to make nice plots such as corner plots. You can add the priors if you are only plotting parameter which you sampled in, e.g."
   ]
  },
  {
   "cell_type": "code",
   "execution_count": 23,
   "metadata": {},
   "outputs": [
    {
     "data": {
      "image/png": "[encoded data removed]",
      "text/plain": [
       "<Figure size 396x396 with 4 Axes>"
      ]
     },
     "execution_count": 23,
     "metadata": {},
     "output_type": "execute_result"
    }
   ],
   "source": [
    "result_short.plot_corner(parameters=[\"chirp_mass\", \"mass_ratio\"], prior=True)"
   ]
  },
  {
   "cell_type": "markdown",
   "metadata": {},
   "source": [
    "You can also plot lines indicating specific points. Here, we add the values recorded on [GWOSC](https://www.gw-openscience.org/events/GW150914/). Notably, these fall outside the bulk of the posterior uncertainty here. This is because we limited our prior - if instead we ran the full analysis these agree nicely."
   ]
  },
  {
   "cell_type": "code",
   "execution_count": 19,
   "metadata": {
    "Collapsed": "false",
    "colab": {
     "base_uri": "https://localhost:8080/",
     "height": 259
    },
    "colab_type": "code",
    "id": "SB4AqmTaygvU",
    "outputId": "3b4d648b-378e-480f-93d8-7929c81f9559"
   },
   "outputs": [
    {
     "data": {
      "image/png": "[encoded data removed]",
      "text/plain": [
       "<Figure size 396x396 with 4 Axes>"
      ]
     },
     "execution_count": 19,
     "metadata": {},
     "output_type": "execute_result"
    }
   ],
   "source": [
    "parameters = dict(mass_1=36, mass_2=29)\n",
    "result_short.plot_corner(parameters)"
   ]
  },
  {
   "cell_type": "markdown",
   "metadata": {},
   "source": [
    "Earlier we discussed the \"correlation\" - in this plot we start to see the correlation between $m_1$ and $m_2$."
   ]
  },
  {
   "cell_type": "markdown",
   "metadata": {},
   "source": [
    "### Meta data\n",
    "The result object also stores meta data, like the priors"
   ]
  },
  {
   "cell_type": "code",
   "execution_count": 20,
   "metadata": {},
   "outputs": [
    {
     "data": {
      "text/plain": [
       "{'chirp_mass': Uniform(minimum=27.0, maximum=32.5, name='chirp_mass', latex_label='$\\\\mathcal{M}$', unit=None, boundary=None),\n",
       " 'mass_ratio': Uniform(minimum=0.5, maximum=1, name='mass_ratio', latex_label='$q$', unit=None, boundary=None),\n",
       " 'a_1': DeltaFunction(peak=0.4, name=None, latex_label=None, unit=None),\n",
       " 'a_2': DeltaFunction(peak=0.3, name=None, latex_label=None, unit=None),\n",
       " 'tilt_1': DeltaFunction(peak=0.5, name=None, latex_label=None, unit=None),\n",
       " 'tilt_2': DeltaFunction(peak=1.0, name=None, latex_label=None, unit=None),\n",
       " 'phi_12': DeltaFunction(peak=1.7, name=None, latex_label=None, unit=None),\n",
       " 'phi_jl': DeltaFunction(peak=0.3, name=None, latex_label=None, unit=None),\n",
       " 'psi': DeltaFunction(peak=2.659, name=None, latex_label=None, unit=None),\n",
       " 'ra': DeltaFunction(peak=1.375, name=None, latex_label=None, unit=None),\n",
       " 'dec': DeltaFunction(peak=-1.2108, name=None, latex_label=None, unit=None),\n",
       " 'luminosity_distance': DeltaFunction(peak=4000.0, name=None, latex_label=None, unit=None),\n",
       " 'theta_jn': DeltaFunction(peak=0.4, name=None, latex_label=None, unit=None),\n",
       " 'phase': DeltaFunction(peak=1.3, name=None, latex_label=None, unit=None),\n",
       " 'geocent_time': DeltaFunction(peak=1126259642.413, name=None, latex_label=None, unit=None)}"
      ]
     },
     "execution_count": 20,
     "metadata": {},
     "output_type": "execute_result"
    }
   ],
   "source": [
    "result_short.priors"
   ]
  },
  {
   "cell_type": "markdown",
   "metadata": {},
   "source": [
    "and details of the analysis itself:"
   ]
  },
  {
   "cell_type": "code",
   "execution_count": 21,
   "metadata": {},
   "outputs": [
    {
     "data": {
      "text/plain": [
       "500"
      ]
     },
     "execution_count": 21,
     "metadata": {},
     "output_type": "execute_result"
    }
   ],
   "source": [
    "result_short.sampler_kwargs[\"nlive\"]"
   ]
  },
  {
   "cell_type": "markdown",
   "metadata": {},
   "source": [
    "Finally, we can also get out the Bayes factor for the signal vs. Gaussian noise:"
   ]
  },
  {
   "cell_type": "code",
   "execution_count": 22,
   "metadata": {},
   "outputs": [
    {
     "name": "stdout",
     "output_type": "stream",
     "text": [
      "ln Bayes factor = 29.308103027090905 +/- 0.11781995689691561\n"
     ]
    }
   ],
   "source": [
    "print(\"ln Bayes factor = {} +/- {}\".format(\n",
    "    result_short.log_bayes_factor, result_short.log_evidence_err))"
   ]
  },
  {
   "cell_type": "markdown",
   "metadata": {},
   "source": [
    "## Challenge questions\n",
    "\n",
    "* Rerun the analysis with a different samler. *Hint: [see the docs](https://lscsoft.docs.ligo.org/bilby/samplers.html#switching-between-samplers)*. This may require you to install a new sampler!\n",
    "* Rerun the analysis with time marginalization. This will require you to change the prior to a uniform prior centered on the simulation value."
   ]
  }
 ],
 "metadata": {
  "colab": {
   "name": "Tuto_2.4_Parameter_estimation_for_compact_object_mergers.ipynb",
   "provenance": []
  },
  "kernelspec": {
   "display_name": "Python 3",
   "language": "python",
   "name": "python3"
  },
  "language_info": {
   "codemirror_mode": {
    "name": "ipython",
    "version": 3
   },
   "file_extension": ".py",
   "mimetype": "text/x-python",
   "name": "python",
   "nbconvert_exporter": "python",
   "pygments_lexer": "ipython3",
   "version": "3.9.12"
  },
  "latex_envs": {
   "LaTeX_envs_menu_present": true,
   "autoclose": false,
   "autocomplete": true,
   "bibliofile": "biblio.bib",
   "cite_by": "apalike",
   "current_citInitial": 1,
   "eqLabelWithNumbers": true,
   "eqNumInitial": 1,
   "hotkeys": {
    "equation": "Ctrl-E",
    "itemize": "Ctrl-I"
   },
   "labels_anchors": false,
   "latex_user_defs": false,
   "report_style_numbering": false,
   "user_envs_cfg": false
  }
 },
 "nbformat": 4,
 "nbformat_minor": 4
}
